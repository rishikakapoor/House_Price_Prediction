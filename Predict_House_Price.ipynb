{
 "cells": [
  {
   "cell_type": "markdown",
   "metadata": {},
   "source": [
    "## Feature Engineering\n",
    "### Import Libraries"
   ]
  },
  {
   "cell_type": "code",
   "execution_count": 10,
   "metadata": {},
   "outputs": [],
   "source": [
    "import pandas as pd\n",
    "import numpy as np\n",
    "import matplotlib.pyplot as plt\n",
    "from sklearn.ensemble import RandomForestRegressor, GradientBoostingRegressor\n",
    "from sklearn.model_selection import cross_val_score\n",
    "from sklearn.utils import shuffle\n",
    "from sklearn.metrics import mean_squared_error\n",
    "from sklearn.linear_model import LinearRegression\n",
    "from sklearn.pipeline import make_pipeline\n",
    "from sklearn.decomposition import PCA\n",
    "from sklearn.preprocessing import StandardScaler"
   ]
  },
  {
   "cell_type": "code",
   "execution_count": 2,
   "metadata": {},
   "outputs": [],
   "source": [
    "def load_file(file):\n",
    "    '''loads csv to pd dataframe'''\n",
    "    return pd.read_csv(file)\n",
    "\n",
    "def float_to_int(df):\n",
    "    float_features= df.select_dtypes(include=['float64']).columns\n",
    "    float_features\n",
    "    for feature in float_features:\n",
    "        df[feature] = df[feature].astype('int64')\n",
    "\n",
    "def one_hot_encode_feature_df(df, cat_vars=None, num_vars=None):\n",
    "    '''performs one-hot encoding on all categorical variables and combines result with continous variables'''\n",
    "    cat_df = pd.get_dummies(df[cat_vars])\n",
    "    num_df = df[num_vars].apply(pd.to_numeric)\n",
    "    return pd.concat([cat_df, num_df], axis=1)\n",
    "\n",
    "def get_target_df(df, target):\n",
    "    '''returns target dataframe'''\n",
    "    return df[target]\n",
    "\n",
    "def train_model(model, feature_df, target_df, num_procs, mean_mse, cv_std):\n",
    "    neg_mse = cross_val_score(model, feature_df, target_df, cv=2, n_jobs=num_procs, scoring='neg_mean_squared_error')\n",
    "    mean_mse[model] = -1.0*np.mean(neg_mse)\n",
    "    cv_std[model] = np.std(neg_mse)\n",
    "    \n",
    "def print_summary(model, mean_mse, cv_std):\n",
    "    print('\\nModel:\\n', model)\n",
    "    print('Average MSE:\\n', mean_mse[model])\n",
    "    print('Standard deviation during CV:\\n', cv_std[model])\n",
    "\n",
    "def save_results(model, mean_mse, predictions, feature_importances):\n",
    "    '''saves model, model summary, feature importances, and predictions'''\n",
    "    with open('model.txt', 'w') as file:\n",
    "        file.write(str(model))\n",
    "        feature_importances.to_csv('feature_importances.csv') \n",
    "        np.savetxt('predictions.csv', predictions, delimiter=',')"
   ]
  },
  {
   "cell_type": "code",
   "execution_count": 3,
   "metadata": {},
   "outputs": [],
   "source": [
    "if __name__ == '__main__':\n",
    "    \n",
    "    train_df = load_file(\"/Users/rishika/Desktop/data/train.csv\")\n",
    "    test_df = load_file(\"/Users/rishika/Desktop/data/test.csv\")\n",
    "    \n",
    "   \n",
    "#  get target_df\n",
    "    target_df= get_target_df(train_df, 'SalePrice')\n",
    "    feature_df= train_df.drop('SalePrice', 1)\n",
    "  \n",
    " #Filling Missing values (More than 50% missing values)\n",
    "    variables= ['Alley', \"FireplaceQu\",\"PoolQC\",\"MiscFeature\",\"Fence\"]\n",
    "    for vars in variables:\n",
    "        feature_df[vars] = feature_df[vars].fillna('other')\n",
    "        test_df[vars] = test_df[vars].fillna('other')\n",
    "    \n",
    " # Filling Missing values (less than 50% missing values)\n",
    "    other_variables= ['LotFrontage', 'MasVnrType', 'MasVnrArea', 'GarageType', 'GarageYrBlt', 'GarageFinish', 'GarageQual', 'GarageCond', 'BsmtQual', 'BsmtCond', 'BsmtExposure', 'BsmtFinType1','MSZoning','Utilities',\n",
    "                  'BsmtFinType2', 'Electrical', 'Exterior1st','Exterior2nd',\"BsmtFinSF1\",'BsmtFinSF2','BsmtUnfSF','TotalBsmtSF','BsmtFullBath','BsmtHalfBath','KitchenQual','Functional','GarageCars','GarageArea', 'SaleType']   \n",
    "    for vars in other_variables:\n",
    "        mode_train= feature_df[vars].mode()\n",
    "        mode_test= test_df[vars].mode()\n",
    "        feature_df[vars]= feature_df[vars].fillna(mode_train[0])\n",
    "        test_df[vars]= test_df[vars].fillna(mode_test[0])\n",
    " # Converting Float to int  \n",
    "    float_features= feature_df.select_dtypes(include=['float64']).columns\n",
    "    float_features\n",
    "    for feature in float_features:\n",
    "        feature_df[feature] = feature_df[feature].astype('int64')\n",
    "\n",
    "    float_features= test_df.select_dtypes(include=['float64']).columns\n",
    "    float_features\n",
    "    for feature in float_features:\n",
    "        test_df[feature] = test_df[feature].astype('int64')\n",
    "\n"
   ]
  },
  {
   "cell_type": "markdown",
   "metadata": {},
   "source": [
    "### Encoding Categorical Variables\n",
    "#### Encode categorical data and get final feature dfs \n",
    "#### Performing OneHotEncoding on the combined dataset (test and train data) to avoid unequal column results.\n",
    "\n",
    "1. Add new column in the train and test data and asigned values as 0 for train and 1 for test which will be used in further steps to seperate the dataset.\n",
    "2. Concatenate both the dataset.\n",
    "3. Apply OneHotEncoder using the one_hot_encode_feature_df function to get the encoded results and saved them in a new variable named encoded_df.\n",
    "4. Now seperate the test and train dataset.\n",
    "5. Drop the train column that we created to seperate the datasets."
   ]
  },
  {
   "cell_type": "code",
   "execution_count": 4,
   "metadata": {},
   "outputs": [],
   "source": [
    "#Step1\n",
    "feature_df['train']=0\n",
    "test_df['train']=1\n",
    "#step2\n",
    "combined_df= pd.concat([feature_df,test_df])\n"
   ]
  },
  {
   "cell_type": "code",
   "execution_count": 5,
   "metadata": {},
   "outputs": [],
   "source": [
    "#step3\n",
    "categorical_variables = list(combined_df.select_dtypes(include=['object']).columns)\n",
    "numeric_variable= list(combined_df.select_dtypes(include=['int64']).columns) \n",
    "\n",
    "encoded_df = one_hot_encode_feature_df(combined_df, cat_vars = categorical_variables, num_vars = numeric_variable)\n",
    "#step4\n",
    "feature_df= encoded_df[encoded_df['train']==0]\n",
    "test_df= encoded_df[encoded_df['train']==1]"
   ]
  },
  {
   "cell_type": "code",
   "execution_count": 6,
   "metadata": {},
   "outputs": [
    {
     "name": "stderr",
     "output_type": "stream",
     "text": [
      "/Users/rishika/anaconda3/lib/python3.7/site-packages/pandas/core/frame.py:3940: SettingWithCopyWarning: \n",
      "A value is trying to be set on a copy of a slice from a DataFrame\n",
      "\n",
      "See the caveats in the documentation: http://pandas.pydata.org/pandas-docs/stable/indexing.html#indexing-view-versus-copy\n",
      "  errors=errors)\n"
     ]
    }
   ],
   "source": [
    "#step5\n",
    "feature_df.drop(['train'], axis=1, inplace= True)\n",
    "test_df.drop(['train'], axis=1, inplace= True)"
   ]
  },
  {
   "cell_type": "markdown",
   "metadata": {},
   "source": [
    "### Scaling Training dataset."
   ]
  },
  {
   "cell_type": "code",
   "execution_count": 7,
   "metadata": {},
   "outputs": [
    {
     "name": "stderr",
     "output_type": "stream",
     "text": [
      "/Users/rishika/anaconda3/lib/python3.7/site-packages/sklearn/preprocessing/data.py:645: DataConversionWarning: Data with input dtype uint8, int64 were all converted to float64 by StandardScaler.\n",
      "  return self.partial_fit(X, y)\n",
      "/Users/rishika/anaconda3/lib/python3.7/site-packages/sklearn/base.py:464: DataConversionWarning: Data with input dtype uint8, int64 were all converted to float64 by StandardScaler.\n",
      "  return self.fit(X, **fit_params).transform(X)\n"
     ]
    }
   ],
   "source": [
    "# Scaling the dataset:     \n",
    "from sklearn.preprocessing import StandardScaler\n",
    "Sc = StandardScaler()\n",
    "scaled_train = Sc.fit_transform(feature_df)\n",
    "feature_df = pd.DataFrame(scaled_train, index=feature_df.index, columns=feature_df.columns)"
   ]
  },
  {
   "cell_type": "code",
   "execution_count": 8,
   "metadata": {},
   "outputs": [
    {
     "name": "stdout",
     "output_type": "stream",
     "text": [
      "Beginning cross validation\n",
      "\n",
      "Model:\n",
      " LinearRegression(copy_X=True, fit_intercept=True, n_jobs=None,\n",
      "         normalize=False)\n",
      "Average MSE:\n",
      " 5.79870886250411e+35\n",
      "Standard deviation during CV:\n",
      " 2.5044561704795915e+34\n",
      "\n",
      "Model:\n",
      " Pipeline(memory=None,\n",
      "     steps=[('standardscaler', StandardScaler(copy=True, with_mean=True, with_std=True)), ('pca', PCA(copy=True, iterated_power='auto', n_components=None, random_state=None,\n",
      "  svd_solver='auto', tol=0.0, whiten=False)), ('linearregression', LinearRegression(copy_X=True, fit_intercept=True, n_jobs=None,\n",
      "         normalize=False))])\n",
      "Average MSE:\n",
      " 1.5622416306255803e+70\n",
      "Standard deviation during CV:\n",
      " 1.3529927302822872e+70\n",
      "\n",
      "Model:\n",
      " RandomForestRegressor(bootstrap=True, criterion='mse', max_depth=25,\n",
      "           max_features=30, max_leaf_nodes=None, min_impurity_decrease=0.0,\n",
      "           min_impurity_split=None, min_samples_leaf=1,\n",
      "           min_samples_split=60, min_weight_fraction_leaf=0.0,\n",
      "           n_estimators=60, n_jobs=2, oob_score=False, random_state=None,\n",
      "           verbose=5, warm_start=False)\n",
      "Average MSE:\n",
      " 1453467544.6969757\n",
      "Standard deviation during CV:\n",
      " 12499628.931527734\n",
      "\n",
      "Model:\n",
      " GradientBoostingRegressor(alpha=0.9, criterion='friedman_mse', init=None,\n",
      "             learning_rate=0.1, loss='ls', max_depth=5, max_features=None,\n",
      "             max_leaf_nodes=None, min_impurity_decrease=0.0,\n",
      "             min_impurity_split=None, min_samples_leaf=1,\n",
      "             min_samples_split=2, min_weight_fraction_leaf=0.0,\n",
      "             n_estimators=40, n_iter_no_change=None, presort='auto',\n",
      "             random_state=None, subsample=1.0, tol=0.0001,\n",
      "             validation_fraction=0.1, verbose=5, warm_start=False)\n",
      "Average MSE:\n",
      " 985815654.7952573\n",
      "Standard deviation during CV:\n",
      " 49011175.9569121\n",
      "\n",
      "Predictions calculated using model with lowest MSE:\n",
      "GradientBoostingRegressor(alpha=0.9, criterion='friedman_mse', init=None,\n",
      "             learning_rate=0.1, loss='ls', max_depth=5, max_features=None,\n",
      "             max_leaf_nodes=None, min_impurity_decrease=0.0,\n",
      "             min_impurity_split=None, min_samples_leaf=1,\n",
      "             min_samples_split=2, min_weight_fraction_leaf=0.0,\n",
      "             n_estimators=40, n_iter_no_change=None, presort='auto',\n",
      "             random_state=None, subsample=1.0, tol=0.0001,\n",
      "             validation_fraction=0.1, verbose=5, warm_start=False)\n"
     ]
    }
   ],
   "source": [
    "models = []\n",
    "mean_mse = {}\n",
    "cv_std = {}\n",
    "res = {}\n",
    "\n",
    "#define number of processes to run in parallel\n",
    "num_procs = 2\n",
    "\n",
    "#shared model paramaters\n",
    "verbose_lvl = 5\n",
    "\n",
    "#create models -- hyperparameter tuning already done by hand for each model\n",
    "lr = LinearRegression()\n",
    "lr_std_pca = make_pipeline(StandardScaler(), PCA(), LinearRegression())\n",
    "rf = RandomForestRegressor(n_estimators=60, n_jobs=num_procs, max_depth=25, min_samples_split=60, \\\n",
    "                               max_features=30, verbose=verbose_lvl)\n",
    "gbm = GradientBoostingRegressor(n_estimators=40, max_depth=5, loss='ls', verbose=verbose_lvl)\n",
    "\n",
    "models.extend([lr, lr_std_pca, rf, gbm])\n",
    "#  parallel cross-validate models, using MSE as evaluation metric, and print summaries\n",
    "print(\"Beginning cross validation\")\n",
    "for model in models:\n",
    "    train_model(model, feature_df, target_df, num_procs, mean_mse, cv_std)\n",
    "    print_summary(model, mean_mse, cv_std)\n",
    "\n",
    "    #choose model with lowest mse\n",
    "model = min(mean_mse, key=mean_mse.get)\n",
    "print('\\nPredictions calculated using model with lowest MSE:')\n",
    "print(model)    "
   ]
  },
  {
   "cell_type": "code",
   "execution_count": 11,
   "metadata": {},
   "outputs": [
    {
     "name": "stdout",
     "output_type": "stream",
     "text": [
      "      Iter       Train Loss   Remaining Time \n",
      "         1  5274035238.7241            1.35s\n",
      "         2  4427873296.7430            1.12s\n",
      "         3  3736659398.9558            1.01s\n",
      "         4  3162622075.4014            0.95s\n",
      "         5  2689505099.7254            0.90s\n",
      "         6  2295062684.5039            0.86s\n",
      "         7  1965368986.1927            0.83s\n",
      "         8  1686351025.3107            0.79s\n",
      "         9  1451887656.3356            0.79s\n",
      "        10  1256732383.3650            0.76s\n",
      "        11  1094681155.4166            0.73s\n",
      "        12   959109577.5683            0.71s\n",
      "        13   841357450.3061            0.68s\n",
      "        14   742612167.5871            0.66s\n",
      "        15   660605861.6554            0.63s\n",
      "        16   594349522.5774            0.60s\n",
      "        17   532543013.3000            0.58s\n",
      "        18   483299235.4065            0.56s\n",
      "        19   437072498.5013            0.53s\n",
      "        20   399472019.7161            0.51s\n",
      "        21   366542227.9593            0.49s\n",
      "        22   337716705.5513            0.46s\n",
      "        23   312814563.1144            0.43s\n",
      "        24   290983225.7404            0.41s\n",
      "        25   272729023.3832            0.38s\n",
      "        26   254594918.8970            0.36s\n",
      "        27   239405445.4830            0.33s\n",
      "        28   224826504.5735            0.31s\n",
      "        29   212120070.3350            0.28s\n",
      "        30   199857890.7799            0.26s\n",
      "        31   190507181.6825            0.23s\n",
      "        32   181350921.1447            0.20s\n",
      "        33   172548198.6083            0.18s\n",
      "        34   165234127.6813            0.15s\n",
      "        35   158592607.0057            0.13s\n",
      "        36   152878105.6702            0.10s\n",
      "        37   146808958.8850            0.08s\n",
      "        38   141181680.4458            0.05s\n",
      "        39   136367318.8074            0.03s\n",
      "        40   132184647.3745            0.00s\n"
     ]
    },
    {
     "data": {
      "image/png": "[encoded data removed]",
      "text/plain": [
       "<Figure size 1440x720 with 1 Axes>"
      ]
     },
     "metadata": {
      "needs_background": "light"
     },
     "output_type": "display_data"
    }
   ],
   "source": [
    "# train model on entire dataset\n",
    "model.fit(feature_df, target_df)\n",
    "\n",
    "    #create predictions based on test data\n",
    "predictions = model.predict(test_df)\n",
    "\n",
    "    #store feature importances\n",
    "if hasattr(model, 'feature_importances_'):\n",
    "    importances = model.feature_importances_\n",
    "else:\n",
    "        #linear models don't have feature_importances_\n",
    "    importances = [0]*len(feature_df.columns)\n",
    "\n",
    "feature_importances = pd.DataFrame({'feature':feature_df.columns, 'importance':importances})\n",
    "feature_importances.sort_values(by='importance', ascending=False, inplace=True)\n",
    "    \n",
    "    #set index to 'feature'\n",
    "feature_importances.set_index('feature', inplace=True, drop=True)\n",
    "    \n",
    "    #create plot\n",
    "feature_importances[0:25].plot.bar(figsize=(20,10))\n",
    "plt.show()\n",
    "\n",
    "    #save results\n",
    "save_results(model, mean_mse[model], predictions, feature_importances)\n",
    "    "
   ]
  },
  {
   "cell_type": "code",
   "execution_count": null,
   "metadata": {},
   "outputs": [],
   "source": []
  },
  {
   "cell_type": "code",
   "execution_count": null,
   "metadata": {},
   "outputs": [],
   "source": []
  }
 ],
 "metadata": {
  "kernelspec": {
   "display_name": "Python 3",
   "language": "python",
   "name": "python3"
  },
  "language_info": {
   "codemirror_mode": {
    "name": "ipython",
    "version": 3
   },
   "file_extension": ".py",
   "mimetype": "text/x-python",
   "name": "python",
   "nbconvert_exporter": "python",
   "pygments_lexer": "ipython3",
   "version": "3.7.3"
  }
 },
 "nbformat": 4,
 "nbformat_minor": 2
}
